{
 "cells": [
  {
   "cell_type": "code",
   "execution_count": 1,
   "id": "d92ac81c-7c1d-4065-9135-020d7366af09",
   "metadata": {},
   "outputs": [],
   "source": [
    "# Import the pathlib and csv library\n",
    "import pandas as pd\n",
    "from pathlib import Path\n",
    "import csv"
   ]
  },
  {
   "cell_type": "code",
   "execution_count": 2,
   "id": "a74fe38d-735d-4cea-8d92-5a258b5456e2",
   "metadata": {},
   "outputs": [],
   "source": [
    "# Set the file path\n",
    "BudgetData = Path(\"../PyBank/Resources/budget_data.csv\")"
   ]
  },
  {
   "cell_type": "code",
   "execution_count": 3,
   "id": "5d2f88c9-cb05-4ecd-85bd-3006397adba0",
   "metadata": {},
   "outputs": [],
   "source": [
    "# Initialize dictionary\n",
    "Analysis = {}"
   ]
  },
  {
   "cell_type": "code",
   "execution_count": 4,
   "id": "652cf7d6-a3c1-496b-93f8-9d2726775bde",
   "metadata": {},
   "outputs": [
    {
     "name": "stdout",
     "output_type": "stream",
     "text": [
      "['Date', 'Profit/Losses']\n"
     ]
    }
   ],
   "source": [
    "# Open the csv file as an object\n",
    "with open(BudgetData, \"r\") as csvfile:\n",
    "    csvreader = csv.reader(csvfile, delimiter=\",\")\n",
    "# Read the header row\n",
    "# Extract first row to avoid appending to net_change_list\n",
    "    csv_header = next(csvreader)\n",
    "    print(csv_header)"
   ]
  },
  {
   "cell_type": "code",
   "execution_count": 5,
   "id": "79529afd-5df7-4fdd-99a5-06c346b12d82",
   "metadata": {},
   "outputs": [
    {
     "ename": "ValueError",
     "evalue": "I/O operation on closed file.",
     "output_type": "error",
     "traceback": [
      "\u001b[1;31m---------------------------------------------------------------------------\u001b[0m",
      "\u001b[1;31mValueError\u001b[0m                                Traceback (most recent call last)",
      "Cell \u001b[1;32mIn[5], line 1\u001b[0m\n\u001b[1;32m----> 1\u001b[0m \u001b[38;5;28;01mfor\u001b[39;00m row \u001b[38;5;129;01min\u001b[39;00m csvreader:\n\u001b[0;32m      2\u001b[0m     \u001b[38;5;28mprint\u001b[39m(row)\n\u001b[0;32m      3\u001b[0m     Date \u001b[38;5;241m=\u001b[39m row[\u001b[38;5;241m0\u001b[39m]\n",
      "\u001b[1;31mValueError\u001b[0m: I/O operation on closed file."
     ]
    }
   ],
   "source": [
    "for row in csvreader:\n",
    "    print(row)\n",
    "    Date = row[0]\n",
    "    ProfitLosses = int(row[1])\n",
    "    Change = \n",
    "    if Date not in Analysis.keys():\n",
    "        Analysis[Date] = {\"Date\": Date, \"Profit/Losses\": ProfitLosses}\n",
    "    else:\n",
    "        Analysis[Date][\"Date\"] += Date\n",
    "        Analysis[Date][\"Profit/Losses\"] += ProfitLosses\n",
    "\n",
    "header = [\"Date\", \"Profit/Losses\", \"Change\"]\n",
    "aggregate_path = Path(\"aggregate.csv\")"
   ]
  },
  {
   "cell_type": "code",
   "execution_count": null,
   "id": "13667529-9ab1-40d7-82a7-49ca394eeadb",
   "metadata": {},
   "outputs": [],
   "source": []
  }
 ],
 "metadata": {
  "kernelspec": {
   "display_name": "Python 3 (ipykernel)",
   "language": "python",
   "name": "python3"
  },
  "language_info": {
   "codemirror_mode": {
    "name": "ipython",
    "version": 3
   },
   "file_extension": ".py",
   "mimetype": "text/x-python",
   "name": "python",
   "nbconvert_exporter": "python",
   "pygments_lexer": "ipython3",
   "version": "3.10.11"
  }
 },
 "nbformat": 4,
 "nbformat_minor": 5
}
