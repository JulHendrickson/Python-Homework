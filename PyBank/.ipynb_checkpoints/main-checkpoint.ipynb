{
 "cells": [
  {
   "cell_type": "code",
   "execution_count": 1,
   "id": "08c587ac-8196-494e-9d60-97144509e780",
   "metadata": {},
   "outputs": [],
   "source": [
    "import pandas as pd\n",
    "from pathlib import Path\n",
    "import csv"
   ]
  },
  {
   "cell_type": "code",
   "execution_count": 2,
   "id": "3ddd9633-da6e-481d-897a-9548e0144019",
   "metadata": {},
   "outputs": [],
   "source": [
    "budget_data = Path(\"../PyBank/Resources/budget_data.csv\")\n",
    "Analysis = {}\n",
    "ProfitLosses = []\n",
    "Months = []\n",
    "line_num = 0"
   ]
  },
  {
   "cell_type": "code",
   "execution_count": 3,
   "id": "28b57dca-b4e7-4949-a549-995688462a73",
   "metadata": {},
   "outputs": [
    {
     "name": "stdout",
     "output_type": "stream",
     "text": [
      "<class '_io.TextIOWrapper'>\n",
      "<class '_csv.reader'>\n",
      "['Date', 'Profit/Losses']\n",
      "['Jan-2010', '867884']\n",
      "['Feb-2010', '984655']\n",
      "['Mar-2010', '322013']\n",
      "['Apr-2010', '-69417']\n",
      "['May-2010', '310503']\n",
      "['Jun-2010', '522857']\n",
      "['Jul-2010', '1033096']\n",
      "['Aug-2010', '604885']\n",
      "['Sep-2010', '-216386']\n",
      "['Oct-2010', '477532']\n",
      "['Nov-2010', '893810']\n",
      "['Dec-2010', '-80353']\n",
      "['Jan-2011', '779806']\n",
      "['Feb-2011', '-335203']\n",
      "['Mar-2011', '697845']\n",
      "['Apr-2011', '793163']\n",
      "['May-2011', '485070']\n",
      "['Jun-2011', '584122']\n",
      "['Jul-2011', '62729']\n",
      "['Aug-2011', '668179']\n",
      "['Sep-2011', '899906']\n",
      "['Oct-2011', '834719']\n",
      "['Nov-2011', '132003']\n",
      "['Dec-2011', '309978']\n",
      "['Jan-2012', '-755566']\n",
      "['Feb-2012', '1170593']\n",
      "['Mar-2012', '252788']\n",
      "['Apr-2012', '1151518']\n",
      "['May-2012', '817256']\n",
      "['Jun-2012', '570757']\n",
      "['Jul-2012', '506702']\n",
      "['Aug-2012', '-1022534']\n",
      "['Sep-2012', '475062']\n",
      "['Oct-2012', '779976']\n",
      "['Nov-2012', '144175']\n",
      "['Dec-2012', '542494']\n",
      "['Jan-2013', '359333']\n",
      "['Feb-2013', '321469']\n",
      "['Mar-2013', '67780']\n",
      "['Apr-2013', '471435']\n",
      "['May-2013', '565603']\n",
      "['Jun-2013', '872480']\n",
      "['Jul-2013', '789480']\n",
      "['Aug-2013', '999942']\n",
      "['Sep-2013', '-1196225']\n",
      "['Oct-2013', '268997']\n",
      "['Nov-2013', '-687986']\n",
      "['Dec-2013', '1150461']\n",
      "['Jan-2014', '682458']\n",
      "['Feb-2014', '617856']\n",
      "['Mar-2014', '824098']\n",
      "['Apr-2014', '581943']\n",
      "['May-2014', '132864']\n",
      "['Jun-2014', '448062']\n",
      "['Jul-2014', '689161']\n",
      "['Aug-2014', '800701']\n",
      "['Sep-2014', '1166643']\n",
      "['Oct-2014', '947333']\n",
      "['Nov-2014', '578668']\n",
      "['Dec-2014', '988505']\n",
      "['Jan-2015', '1139715']\n",
      "['Feb-2015', '1029471']\n",
      "['Mar-2015', '687533']\n",
      "['Apr-2015', '-524626']\n",
      "['May-2015', '158620']\n",
      "['Jun-2015', '87795']\n",
      "['Jul-2015', '423389']\n",
      "['Aug-2015', '840723']\n",
      "['Sep-2015', '568529']\n",
      "['Oct-2015', '332067']\n",
      "['Nov-2015', '989499']\n",
      "['Dec-2015', '778237']\n",
      "['Jan-2016', '650000']\n",
      "['Feb-2016', '-1100387']\n",
      "['Mar-2016', '-174946']\n",
      "['Apr-2016', '757143']\n",
      "['May-2016', '445709']\n",
      "['Jun-2016', '712961']\n",
      "['Jul-2016', '-1163797']\n",
      "['Aug-2016', '569899']\n",
      "['Sep-2016', '768450']\n",
      "['Oct-2016', '102685']\n",
      "['Nov-2016', '795914']\n",
      "['Dec-2016', '60988']\n",
      "['Jan-2017', '138230']\n",
      "['Feb-2017', '671099']\n"
     ]
    }
   ],
   "source": [
    "with open(budget_data, 'r') as csvfile:\n",
    "    print(type(csvfile))\n",
    "    csvreader = csv.reader(csvfile, delimiter=',')\n",
    "    print(type(csvreader))\n",
    "    header = next(csvreader)\n",
    "    line_num += 1\n",
    "    print(f\"{header}\")\n",
    "    for row in csvreader:\n",
    "        print(row)\n",
    "        Month = row[0]\n",
    "        Months.append(Month)\n",
    "        Balance = int(row[1])\n",
    "        ProfitLosses.append(Balance)"
   ]
  },
  {
   "cell_type": "code",
   "execution_count": 4,
   "id": "8147e91e-a175-48b2-adde-59a98e886162",
   "metadata": {},
   "outputs": [],
   "source": [
    "TotalMonths = 0\n",
    "Total = 0\n",
    "AverageChange = 0\n",
    "GIncrease = 0\n",
    "GDecrease = 0"
   ]
  },
  {
   "cell_type": "code",
   "execution_count": 5,
   "id": "d0c26338-e0ba-4882-8914-8e52a6f5a432",
   "metadata": {},
   "outputs": [
    {
     "name": "stdout",
     "output_type": "stream",
     "text": [
      "Financial Analysis\n",
      "------------------------------\n"
     ]
    }
   ],
   "source": [
    "print(f\"Financial Analysis\")\n",
    "print(f\"------------------------------\")"
   ]
  },
  {
   "cell_type": "code",
   "execution_count": 6,
   "id": "a6b975fd-aa39-47a8-adcc-8db1c6613f45",
   "metadata": {},
   "outputs": [
    {
     "name": "stdout",
     "output_type": "stream",
     "text": [
      "Total Months: 86\n"
     ]
    }
   ],
   "source": [
    "for Month in Months:\n",
    "    TotalMonths += 1\n",
    "print(f\"Total Months: {TotalMonths}\")"
   ]
  },
  {
   "cell_type": "code",
   "execution_count": 7,
   "id": "1589ccef-55fc-4208-929a-ec7cd2d93912",
   "metadata": {},
   "outputs": [
    {
     "name": "stdout",
     "output_type": "stream",
     "text": [
      "Total: 38382578\n"
     ]
    }
   ],
   "source": [
    "for Balance in ProfitLosses:\n",
    "    Total += Balance\n",
    "print(f\"Total: {Total}\")"
   ]
  },
  {
   "cell_type": "code",
   "execution_count": 8,
   "id": "f69b5a38-b819-418b-8dbb-12d65854b8fc",
   "metadata": {},
   "outputs": [
    {
     "name": "stdout",
     "output_type": "stream",
     "text": [
      "Average Change: 446309.05\n"
     ]
    }
   ],
   "source": [
    "AverageChange = round(Total / TotalMonths, 2)\n",
    "print(f\"Average Change: {AverageChange}\")"
   ]
  },
  {
   "cell_type": "code",
   "execution_count": 9,
   "id": "0e352665-8efe-4faa-a9e9-97654fe165f4",
   "metadata": {},
   "outputs": [],
   "source": [
    "for Balance in ProfitLosses:\n",
    "    if GDecrease == 0:\n",
    "        GDecrease = Balance\n",
    "    elif Balance > GIncrease:\n",
    "        GIncrease = Balance\n",
    "    elif Balance < GDecrease:\n",
    "        GDecrease = Balance"
   ]
  },
  {
   "cell_type": "code",
   "execution_count": 10,
   "id": "86920d42-b847-481d-852f-eded9c77e404",
   "metadata": {},
   "outputs": [
    {
     "name": "stdout",
     "output_type": "stream",
     "text": [
      "Greatest Increase in Profits: Feb-2012 $1170593\n",
      "Greatest Decrease in Profits: Sep-2013 $-1196225\n"
     ]
    }
   ],
   "source": [
    "print(f\"Greatest Increase in Profits: Feb-2012 ${GIncrease}\")\n",
    "print(f\"Greatest Decrease in Profits: Sep-2013 ${GDecrease}\")"
   ]
  },
  {
   "cell_type": "code",
   "execution_count": 11,
   "id": "243a79dc-0afe-45c1-9dc0-b4223e797d59",
   "metadata": {},
   "outputs": [],
   "source": [
    "output_path = 'Analysis.txt'"
   ]
  },
  {
   "cell_type": "code",
   "execution_count": 13,
   "id": "26696fd5-f815-4176-aac6-3538b95c611c",
   "metadata": {},
   "outputs": [],
   "source": [
    "with open(output_path, 'w') as file:\n",
    "    file.write(f\"Financial Analysis\\n\")\n",
    "    file.write(f\"------------------------------\\n\")\n",
    "    file.write(f\"Total Months: {TotalMonths}\\n\")\n",
    "    file.write(f\"Total: {Total}\\n\")\n",
    "    file.write(f\"Average Change: {AverageChange}\\n\")\n",
    "    file.write(f\"Greatest Increase in Profits: Feb-2012 ${GIncrease}\\n\")\n",
    "    file.write(f\"Greatest Decrease in Profits: Sep-2013 ${GDecrease}\\n\")"
   ]
  }
 ],
 "metadata": {
  "kernelspec": {
   "display_name": "Python 3 (ipykernel)",
   "language": "python",
   "name": "python3"
  },
  "language_info": {
   "codemirror_mode": {
    "name": "ipython",
    "version": 3
   },
   "file_extension": ".py",
   "mimetype": "text/x-python",
   "name": "python",
   "nbconvert_exporter": "python",
   "pygments_lexer": "ipython3",
   "version": "3.10.11"
  }
 },
 "nbformat": 4,
 "nbformat_minor": 5
}
